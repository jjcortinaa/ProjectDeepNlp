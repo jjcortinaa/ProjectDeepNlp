{
 "cells": [
  {
   "cell_type": "code",
   "execution_count": 1,
   "metadata": {},
   "outputs": [
    {
     "name": "stderr",
     "output_type": "stream",
     "text": [
      "c:\\Users\\Alvaro FG\\AppData\\Local\\Programs\\Python\\Python311\\Lib\\site-packages\\tqdm\\auto.py:21: TqdmWarning: IProgress not found. Please update jupyter and ipywidgets. See https://ipywidgets.readthedocs.io/en/stable/user_install.html\n",
      "  from .autonotebook import tqdm as notebook_tqdm\n"
     ]
    }
   ],
   "source": [
    "import pandas as pd\n",
    "import ast\n",
    "from transformers import pipeline"
   ]
  },
  {
   "cell_type": "code",
   "execution_count": 2,
   "metadata": {},
   "outputs": [],
   "source": [
    "ner_csv_test = pd.read_csv(\"../data/NER_csvs/conll2003_test.csv\")\n",
    "ner_csv_train = pd.read_csv(\"../data/NER_csvs/conll2003_train.csv\")\n",
    "ner_csv_val = pd.read_csv(\"../data/NER_csvs/conll2003_validation.csv\")"
   ]
  },
  {
   "cell_type": "code",
   "execution_count": 3,
   "metadata": {},
   "outputs": [],
   "source": [
    "ner_csv_test[\"sentence\"] = ner_csv_test[\"tokens\"].apply(ast.literal_eval)\n",
    "ner_csv_train[\"sentence\"] = ner_csv_train[\"tokens\"].apply(ast.literal_eval)\n",
    "ner_csv_val[\"sentence\"] = ner_csv_val[\"tokens\"].apply(ast.literal_eval)"
   ]
  },
  {
   "cell_type": "code",
   "execution_count": 4,
   "metadata": {},
   "outputs": [],
   "source": [
    "ner_csv_test[\"sentence\"] = ner_csv_test[\"sentence\"].apply(lambda x: \" \".join(x))\n",
    "ner_csv_train[\"sentence\"] = ner_csv_train[\"sentence\"].apply(lambda x: \" \".join(x))\n",
    "ner_csv_val[\"sentence\"] = ner_csv_val[\"sentence\"].apply(lambda x: \" \".join(x))"
   ]
  },
  {
   "cell_type": "code",
   "execution_count": 5,
   "metadata": {},
   "outputs": [],
   "source": [
    "sentences_test = ner_csv_test[\"sentence\"].to_list()\n",
    "sentences_train = ner_csv_train[\"sentence\"].to_list()\n",
    "sentences_val = ner_csv_val[\"sentence\"].to_list()"
   ]
  },
  {
   "cell_type": "code",
   "execution_count": 6,
   "metadata": {},
   "outputs": [
    {
     "name": "stderr",
     "output_type": "stream",
     "text": [
      "Device set to use cuda:0\n"
     ]
    }
   ],
   "source": [
    "sentiment_analyzer = pipeline(\"sentiment-analysis\", model=\"../data/SA_model\", tokenizer=\"../data/SA_tokenizer\")"
   ]
  },
  {
   "cell_type": "code",
   "execution_count": 7,
   "metadata": {},
   "outputs": [],
   "source": [
    "results_test = sentiment_analyzer(sentences_test)\n",
    "results_train = sentiment_analyzer(sentences_train)\n",
    "results_val = sentiment_analyzer(sentences_val)"
   ]
  },
  {
   "cell_type": "code",
   "execution_count": 16,
   "metadata": {},
   "outputs": [],
   "source": [
    "labels_test = []\n",
    "for sentence, result in zip(sentences_test, results_test):\n",
    "    labels_test.append(result[\"label\"])\n",
    "ner_csv_test[\"label\"] = labels_test"
   ]
  },
  {
   "cell_type": "code",
   "execution_count": 19,
   "metadata": {},
   "outputs": [],
   "source": [
    "labels_train = []\n",
    "for sentence, result in zip(sentences_train, results_train):\n",
    "    labels_train.append(result[\"label\"])\n",
    "ner_csv_train[\"label\"] = labels_train"
   ]
  },
  {
   "cell_type": "code",
   "execution_count": 24,
   "metadata": {},
   "outputs": [],
   "source": [
    "labels_val = []\n",
    "for sentence, result in zip(sentences_val, results_val):\n",
    "    labels_val.append(result[\"label\"])\n",
    "ner_csv_val[\"label\"] = labels_val"
   ]
  },
  {
   "cell_type": "code",
   "execution_count": 21,
   "metadata": {},
   "outputs": [
    {
     "name": "stderr",
     "output_type": "stream",
     "text": [
      "La sintaxis del comando no es correcta.\n"
     ]
    }
   ],
   "source": [
    "!mkdir -p ../data/NER_SA_csvs"
   ]
  },
  {
   "cell_type": "code",
   "execution_count": 25,
   "metadata": {},
   "outputs": [],
   "source": [
    "ner_csv_train.to_csv(\"../data/NER_SA_csvs/train.csv\", index=False)\n",
    "ner_csv_test.to_csv(\"../data/NER_SA_csvs/test.csv\", index=False)\n",
    "ner_csv_val.to_csv(\"../data/NER_SA_csvs/validation.csv\", index=False)"
   ]
  }
 ],
 "metadata": {
  "kernelspec": {
   "display_name": "Python 3",
   "language": "python",
   "name": "python3"
  },
  "language_info": {
   "codemirror_mode": {
    "name": "ipython",
    "version": 3
   },
   "file_extension": ".py",
   "mimetype": "text/x-python",
   "name": "python",
   "nbconvert_exporter": "python",
   "pygments_lexer": "ipython3",
   "version": "3.11.9"
  }
 },
 "nbformat": 4,
 "nbformat_minor": 2
}
