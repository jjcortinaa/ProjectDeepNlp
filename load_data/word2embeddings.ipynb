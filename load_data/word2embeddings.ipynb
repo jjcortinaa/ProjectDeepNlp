{
 "cells": [
  {
   "cell_type": "code",
   "execution_count": 44,
   "metadata": {},
   "outputs": [],
   "source": [
    "import torch\n",
    "import pandas as pd\n",
    "import ast\n",
    "from gensim.models import KeyedVectors\n",
    "\n",
    "model_path = '../models/GoogleNews-vectors-negative300.bin.gz' #Actualiza el path\n",
    "model = KeyedVectors.load_word2vec_format(model_path, binary=True)"
   ]
  },
  {
   "cell_type": "code",
   "execution_count": 45,
   "metadata": {},
   "outputs": [],
   "source": [
    "df_train = pd.read_csv(\"../data/NER_SA_csvs/train.csv\")\n",
    "df_val = pd.read_csv(\"../data/NER_SA_csvs/validation.csv\")\n",
    "df_test = pd.read_csv(\"../data/NER_SA_csvs/test.csv\")"
   ]
  },
  {
   "cell_type": "code",
   "execution_count": 46,
   "metadata": {},
   "outputs": [],
   "source": [
    "sentences_train = df_train['sentence'].tolist()\n",
    "sentences_val = df_val['sentence'].tolist()\n",
    "sentences_test = df_test['sentence'].tolist()"
   ]
  },
  {
   "cell_type": "code",
   "execution_count": 50,
   "metadata": {},
   "outputs": [],
   "source": [
    "\n",
    "# Cargar el modelo preentrenado de Google News\n",
    "# Asegúrate de tener el archivo .bin de Word2Vec de Google News\n",
    "\n",
    "# Función para obtener los embeddings de las palabras en cada frase\n",
    "def get_embeddings_for_sentence(sentence):\n",
    "    words = sentence.split()  # Dividimos la frase en palabras\n",
    "    embeddings = []\n",
    "    for word in words:\n",
    "        try:\n",
    "            # Obtenemos el embedding de cada palabra, si está en el vocabulario del modelo\n",
    "            embedding = model[word]\n",
    "            embeddings.append(embedding)\n",
    "        except KeyError:\n",
    "            # Si la palabra no está en el vocabulario del modelo, agregamos un vector cero\n",
    "            embeddings.append([0] * 300)  # 300 es el tamaño del vector en el modelo de Google News\n",
    "    return embeddings\n",
    "\n"
   ]
  }
 ],
 "metadata": {
  "kernelspec": {
   "display_name": "Python 3",
   "language": "python",
   "name": "python3"
  },
  "language_info": {
   "codemirror_mode": {
    "name": "ipython",
    "version": 3
   },
   "file_extension": ".py",
   "mimetype": "text/x-python",
   "name": "python",
   "nbconvert_exporter": "python",
   "pygments_lexer": "ipython3",
   "version": "3.12.8"
  }
 },
 "nbformat": 4,
 "nbformat_minor": 2
}
