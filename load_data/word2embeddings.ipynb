{
 "cells": [
  {
   "cell_type": "code",
   "execution_count": 31,
   "metadata": {},
   "outputs": [],
   "source": [
    "from transformers import BertTokenizer, BertModel\n",
    "import torch\n",
    "import pandas as pd\n",
    "import ast\n",
    "\n",
    "# Cargar el modelo y el tokenizador de BERT\n",
    "tokenizer = BertTokenizer.from_pretrained(\"bert-base-uncased\")\n",
    "model = BertModel.from_pretrained(\"bert-base-uncased\")\n"
   ]
  },
  {
   "cell_type": "code",
   "execution_count": 32,
   "metadata": {},
   "outputs": [],
   "source": [
    "df_train = pd.read_csv(\"../data/NER_SA_csvs/train.csv\")\n",
    "df_val = pd.read_csv(\"../data/NER_SA_csvs/validation.csv\")\n",
    "df_test = pd.read_csv(\"../data/NER_SA_csvs/test.csv\")\n"
   ]
  },
  {
   "cell_type": "code",
   "execution_count": 33,
   "metadata": {},
   "outputs": [],
   "source": [
    "sentences_train = df_train['sentence'].tolist()\n",
    "sentences_val = df_val['sentence'].tolist()\n",
    "sentences_test = df_test['sentence'].tolist()\n"
   ]
  },
  {
   "cell_type": "code",
   "execution_count": 34,
   "metadata": {},
   "outputs": [],
   "source": [
    "# Lista de oraciones (de tu dataset)\n",
    "\n",
    "# Función para obtener embeddings para todas las oraciones\n",
    "def get_embeddings(sentences):\n",
    "    embeddings = []\n",
    "    for sentence in sentences:\n",
    "        # Tokenizar la frase\n",
    "        inputs = tokenizer(sentence, return_tensors=\"pt\", padding=True, truncation=True)\n",
    "        \n",
    "        # Desactivar el cálculo de gradientes (porque no estamos entrenando)\n",
    "        with torch.no_grad():\n",
    "            # Obtener las representaciones de la última capa (embeddings)\n",
    "            outputs = model(**inputs)\n",
    "            word_embeddings = outputs.last_hidden_state  # (batch_size, sequence_length, hidden_size)\n",
    "        \n",
    "        # Extraer los embeddings de la última capa (generalmente la capa [CLS] es el \"representante\" de la oración, pero si necesitas todos los tokens, puedes usar todos los embeddings)\n",
    "        embeddings.append(word_embeddings)\n",
    "    return embeddings\n"
   ]
  },
  {
   "cell_type": "code",
   "execution_count": 35,
   "metadata": {},
   "outputs": [],
   "source": [
    "# Obtener los embeddings para todas las oraciones\n",
    "sentence_embeddings_train = get_embeddings(sentences_train)\n",
    "sentence_embeddings_val = get_embeddings(sentences_val)\n",
    "sentence_embeddings_test = get_embeddings(sentences_test)"
   ]
  },
  {
   "cell_type": "code",
   "execution_count": 36,
   "metadata": {},
   "outputs": [],
   "source": [
    "df_train['embeddings'] = sentence_embeddings_train\n",
    "df_val['embeddings'] = sentence_embeddings_val\n",
    "df_test['embeddings'] = sentence_embeddings_test\n"
   ]
  },
  {
   "cell_type": "code",
   "execution_count": 37,
   "metadata": {},
   "outputs": [],
   "source": [
    "df_train.to_csv(\"../data/NER_SA_csvs/train.csv\", index=False)\n",
    "df_val.to_csv(\"../data/NER_SA_csvs/validation.csv\", index=False)\n",
    "df_test.to_csv(\"../data/NER_SA_csvs/test.csv\", index=False)"
   ]
  }
 ],
 "metadata": {
  "kernelspec": {
   "display_name": "Python 3",
   "language": "python",
   "name": "python3"
  },
  "language_info": {
   "codemirror_mode": {
    "name": "ipython",
    "version": 3
   },
   "file_extension": ".py",
   "mimetype": "text/x-python",
   "name": "python",
   "nbconvert_exporter": "python",
   "pygments_lexer": "ipython3",
   "version": "3.12.8"
  }
 },
 "nbformat": 4,
 "nbformat_minor": 2
}
